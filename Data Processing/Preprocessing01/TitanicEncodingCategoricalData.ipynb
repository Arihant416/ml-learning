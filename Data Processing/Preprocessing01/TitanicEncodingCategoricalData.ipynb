{
 "cells": [
  {
   "cell_type": "code",
   "execution_count": 47,
   "id": "037ed446-92f6-4595-8299-773df8900444",
   "metadata": {},
   "outputs": [],
   "source": [
    "import numpy as np\n",
    "import pandas as pd \n",
    "from sklearn.compose import ColumnTransformer\n",
    "from sklearn.preprocessing import LabelEncoder, OneHotEncoder"
   ]
  },
  {
   "cell_type": "code",
   "execution_count": 48,
   "id": "72123eda-1362-433d-9dcb-d1921db76717",
   "metadata": {},
   "outputs": [],
   "source": [
    "dataset = pd.read_csv('titanic.csv')"
   ]
  },
  {
   "cell_type": "code",
   "execution_count": 49,
   "id": "9be23c25-cdf7-41e2-a4eb-4c3e5b43086a",
   "metadata": {},
   "outputs": [],
   "source": [
    "# let's find the categorical features\n",
    "categorical_cols = [\"Sex\", \"Embarked\", \"Pclass\"]"
   ]
  },
  {
   "cell_type": "code",
   "execution_count": 50,
   "id": "3b2afc47-78c8-4bb9-b99d-d502c3e675c5",
   "metadata": {},
   "outputs": [
    {
     "data": {
      "text/plain": [
       "['Sex', 'Embarked', 'Pclass']"
      ]
     },
     "execution_count": 50,
     "metadata": {},
     "output_type": "execute_result"
    }
   ],
   "source": [
    "categorical_cols"
   ]
  },
  {
   "cell_type": "code",
   "execution_count": 51,
   "id": "eed40807-35aa-4d51-b146-dd59620c9d39",
   "metadata": {},
   "outputs": [],
   "source": [
    "ct = ColumnTransformer(transformers=[('encoder', OneHotEncoder(), categorical_cols)], remainder='passthrough')"
   ]
  },
  {
   "cell_type": "code",
   "execution_count": 52,
   "id": "82ecf3fb-d4e3-404a-b939-59322fba9538",
   "metadata": {
    "editable": true,
    "slideshow": {
     "slide_type": ""
    },
    "tags": []
   },
   "outputs": [],
   "source": [
    "X = ct.fit_transform(dataset)"
   ]
  },
  {
   "cell_type": "code",
   "execution_count": 40,
   "id": "14279dc4-f86a-468d-a6b2-ccc88e17ff02",
   "metadata": {},
   "outputs": [
    {
     "name": "stdout",
     "output_type": "stream",
     "text": [
      "<Compressed Sparse Row sparse matrix of dtype 'float64'\n",
      "\twith 1902 stored elements and shape (183, 455)>\n",
      "  Coords\tValues\n",
      "  (0, 49)\t1.0\n",
      "  (0, 183)\t1.0\n",
      "  (0, 294)\t1.0\n",
      "  (0, 384)\t1.0\n",
      "  (0, 445)\t1.0\n",
      "  (0, 448)\t2.0\n",
      "  (0, 449)\t1.0\n",
      "  (0, 450)\t1.0\n",
      "  (0, 451)\t38.0\n",
      "  (0, 452)\t1.0\n",
      "  (0, 454)\t71.2833\n",
      "  (1, 70)\t1.0\n",
      "  (1, 183)\t1.0\n",
      "  (1, 216)\t1.0\n",
      "  (1, 360)\t1.0\n",
      "  (1, 447)\t1.0\n",
      "  (1, 448)\t4.0\n",
      "  (1, 449)\t1.0\n",
      "  (1, 450)\t1.0\n",
      "  (1, 451)\t35.0\n",
      "  (1, 452)\t1.0\n",
      "  (1, 454)\t53.1\n",
      "  (2, 112)\t1.0\n",
      "  (2, 184)\t1.0\n",
      "  (2, 240)\t1.0\n",
      "  :\t:\n",
      "  (180, 449)\t1.0\n",
      "  (180, 450)\t1.0\n",
      "  (180, 451)\t56.0\n",
      "  (180, 453)\t1.0\n",
      "  (180, 454)\t83.1583\n",
      "  (181, 75)\t1.0\n",
      "  (181, 183)\t1.0\n",
      "  (181, 195)\t1.0\n",
      "  (181, 337)\t1.0\n",
      "  (181, 447)\t1.0\n",
      "  (181, 448)\t888.0\n",
      "  (181, 449)\t1.0\n",
      "  (181, 450)\t1.0\n",
      "  (181, 451)\t19.0\n",
      "  (181, 454)\t30.0\n",
      "  (182, 20)\t1.0\n",
      "  (182, 184)\t1.0\n",
      "  (182, 193)\t1.0\n",
      "  (182, 364)\t1.0\n",
      "  (182, 445)\t1.0\n",
      "  (182, 448)\t890.0\n",
      "  (182, 449)\t1.0\n",
      "  (182, 450)\t1.0\n",
      "  (182, 451)\t26.0\n",
      "  (182, 454)\t30.0\n"
     ]
    }
   ],
   "source": [
    "print(dataset)"
   ]
  },
  {
   "cell_type": "code",
   "execution_count": 53,
   "id": "3386292e-9753-4efe-8f3f-164bc704d437",
   "metadata": {
    "editable": true,
    "slideshow": {
     "slide_type": ""
    },
    "tags": []
   },
   "outputs": [
    {
     "name": "stdout",
     "output_type": "stream",
     "text": [
      "[1 1 0 1 1 1 1 0 1 0 0 1 0 1 0 0 1 0 0 0 1 0 1 0 0 0 1 0 0 0 1 1 1 1 0 1 1\n",
      " 1 1 1 0 1 0 0 1 0 0 1 1 0 1 1 0 0 1 1 1 1 1 1 1 1 1 1 1 0 0 0 1 0 1 1 1 1\n",
      " 1 1 1 0 1 1 1 1 1 1 0 1 0 1 1 0 1 0 1 0 1 1 1 0 0 1 0 1 0 1 0 1 1 1 0 1 1\n",
      " 0 1 1 1 1 1 1 1 0 1 1 1 1 1 1 1 0 1 1 1 1 1 1 0 0 0 1 1 1 1 0 0 1 1 1 1 1\n",
      " 0 1 1 1 1 1 0 1 0 0 1 1 1 1 0 1 1 0 0 1 1 0 1 1 1 1 1 1 1 0 1 0 1 1 1]\n"
     ]
    }
   ],
   "source": [
    "le = LabelEncoder()\n",
    "Y = le.fit_transform(dataset['Survived'])\n",
    "print(Y)"
   ]
  },
  {
   "cell_type": "code",
   "execution_count": null,
   "id": "fa96bd6e-920d-4ed0-bf3c-4a258de9a09c",
   "metadata": {},
   "outputs": [],
   "source": []
  }
 ],
 "metadata": {
  "kernelspec": {
   "display_name": "Python 3 (ipykernel)",
   "language": "python",
   "name": "python3"
  },
  "language_info": {
   "codemirror_mode": {
    "name": "ipython",
    "version": 3
   },
   "file_extension": ".py",
   "mimetype": "text/x-python",
   "name": "python",
   "nbconvert_exporter": "python",
   "pygments_lexer": "ipython3",
   "version": "3.12.3"
  }
 },
 "nbformat": 4,
 "nbformat_minor": 5
}
