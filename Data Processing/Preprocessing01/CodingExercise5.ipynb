{
 "cells": [
  {
   "cell_type": "code",
   "execution_count": 5,
   "id": "5ac4ddcb-046f-4969-af2b-fde4305778ab",
   "metadata": {
    "editable": true,
    "slideshow": {
     "slide_type": ""
    },
    "tags": []
   },
   "outputs": [],
   "source": [
    "import pandas as pd\n",
    "import numpy as np\n",
    "from sklearn.preprocessing import StandardScaler\n",
    "from sklearn.model_selection import train_test_split"
   ]
  },
  {
   "cell_type": "code",
   "execution_count": 6,
   "id": "5c126624-1794-45d1-a8af-afeffe60376b",
   "metadata": {
    "editable": true,
    "slideshow": {
     "slide_type": ""
    },
    "tags": []
   },
   "outputs": [
    {
     "name": "stdout",
     "output_type": "stream",
     "text": [
      "      fixed acidity  volatile acidity  citric acid  residual sugar  ...    pH  sulphates  alcohol  quality\n",
      "0               7.4             0.700         0.00             1.9  ...  3.51       0.56      9.4        5\n",
      "1               7.8             0.880         0.00             2.6  ...  3.20       0.68      9.8        5\n",
      "2               7.8             0.760         0.04             2.3  ...  3.26       0.65      9.8        5\n",
      "3              11.2             0.280         0.56             1.9  ...  3.16       0.58      9.8        6\n",
      "4               7.4             0.700         0.00             1.9  ...  3.51       0.56      9.4        5\n",
      "...             ...               ...          ...             ...  ...   ...        ...      ...      ...\n",
      "1594            6.2             0.600         0.08             2.0  ...  3.45       0.58     10.5        5\n",
      "1595            5.9             0.550         0.10             2.2  ...  3.52       0.76     11.2        6\n",
      "1596            6.3             0.510         0.13             2.3  ...  3.42       0.75     11.0        6\n",
      "1597            5.9             0.645         0.12             2.0  ...  3.57       0.71     10.2        5\n",
      "1598            6.0             0.310         0.47             3.6  ...  3.39       0.66     11.0        6\n",
      "\n",
      "[1599 rows x 12 columns]\n"
     ]
    }
   ],
   "source": [
    "df = pd.read_csv('winquality-red.csv',sep=';')\n",
    "print(df)\n",
    "X = df.iloc[:, :-1]\n",
    "y = df.iloc[:, -1]"
   ]
  },
  {
   "cell_type": "code",
   "execution_count": 7,
   "id": "4d1d60bf-df5b-4032-bbc9-b0bd19ab933e",
   "metadata": {},
   "outputs": [
    {
     "name": "stdout",
     "output_type": "stream",
     "text": [
      "      fixed acidity  volatile acidity  citric acid  residual sugar  ...  density    pH  sulphates  alcohol\n",
      "0               7.4             0.700         0.00             1.9  ...  0.99780  3.51       0.56      9.4\n",
      "1               7.8             0.880         0.00             2.6  ...  0.99680  3.20       0.68      9.8\n",
      "2               7.8             0.760         0.04             2.3  ...  0.99700  3.26       0.65      9.8\n",
      "3              11.2             0.280         0.56             1.9  ...  0.99800  3.16       0.58      9.8\n",
      "4               7.4             0.700         0.00             1.9  ...  0.99780  3.51       0.56      9.4\n",
      "...             ...               ...          ...             ...  ...      ...   ...        ...      ...\n",
      "1594            6.2             0.600         0.08             2.0  ...  0.99490  3.45       0.58     10.5\n",
      "1595            5.9             0.550         0.10             2.2  ...  0.99512  3.52       0.76     11.2\n",
      "1596            6.3             0.510         0.13             2.3  ...  0.99574  3.42       0.75     11.0\n",
      "1597            5.9             0.645         0.12             2.0  ...  0.99547  3.57       0.71     10.2\n",
      "1598            6.0             0.310         0.47             3.6  ...  0.99549  3.39       0.66     11.0\n",
      "\n",
      "[1599 rows x 11 columns]\n",
      "0       5\n",
      "1       5\n",
      "2       5\n",
      "3       6\n",
      "4       5\n",
      "       ..\n",
      "1594    5\n",
      "1595    6\n",
      "1596    6\n",
      "1597    5\n",
      "1598    6\n",
      "Name: quality, Length: 1599, dtype: int64\n"
     ]
    }
   ],
   "source": [
    "print(X)\n",
    "print(y)"
   ]
  },
  {
   "cell_type": "code",
   "execution_count": 9,
   "id": "bc3b62fe-66ff-4dd7-85d3-e5ba26e634a5",
   "metadata": {},
   "outputs": [],
   "source": [
    "X_train, x_test, y_train, y_test = train_test_split(X, y, test_size=0.2, random_state=42)"
   ]
  },
  {
   "cell_type": "code",
   "execution_count": 10,
   "id": "e7cfe9e4-83db-4626-b1c3-e138aef154b6",
   "metadata": {},
   "outputs": [],
   "source": [
    "sc = StandardScaler()\n",
    "X_train = sc.fit_transform(X_train)"
   ]
  },
  {
   "cell_type": "code",
   "execution_count": 11,
   "id": "6962eceb-ecfc-4a2d-adcf-d01a162e32a0",
   "metadata": {},
   "outputs": [],
   "source": [
    "x_test = sc.transform(x_test)"
   ]
  },
  {
   "cell_type": "code",
   "execution_count": 12,
   "id": "43a455fa-4c38-43af-89c7-1148130d5055",
   "metadata": {},
   "outputs": [
    {
     "name": "stdout",
     "output_type": "stream",
     "text": [
      "[[ 0.21833164  0.88971201  0.19209222 ...  1.09349989  0.45822284\n",
      "   1.12317723]\n",
      " [-1.29016623 -1.78878251  0.65275338 ... -0.40043872 -0.40119696\n",
      "   1.40827174]\n",
      " [ 1.49475291 -0.78434707  1.01104539 ... -0.07566946  0.51551749\n",
      "  -0.58738978]\n",
      " ...\n",
      " [-0.65195559  0.49909822 -1.08752211 ...  1.28836145 -0.68767023\n",
      "  -0.87248428]\n",
      " [-0.24582155 -1.84458448  0.39683051 ...  0.05423824  0.80199076\n",
      "   1.40827174]\n",
      " [-1.46422367 -1.34236676 -0.06383064 ...  0.50891521 -0.68767023\n",
      "   2.92877575]]\n"
     ]
    }
   ],
   "source": [
    "print(X_train)"
   ]
  },
  {
   "cell_type": "code",
   "execution_count": 13,
   "id": "759ca5de-527d-4d6f-9ab4-20d567aa9498",
   "metadata": {},
   "outputs": [
    {
     "name": "stdout",
     "output_type": "stream",
     "text": [
      "[[-3.61859850e-01  1.64286407e-01 -9.85152962e-01 ... -4.65392578e-01\n",
      "  -1.34389336e-04 -7.77452782e-01]\n",
      " [-3.03840702e-01 -1.70525408e-01 -5.24491803e-01 ...  5.08915214e-01\n",
      "  -1.03143815e+00 -8.72484283e-01]\n",
      " [ 1.37871461e+00  7.78108067e-01 -2.68568937e-01 ... -2.05577167e-01\n",
      "   1.83329452e+00 -4.92358280e-01]\n",
      " ...\n",
      " [-1.37449586e-02  3.87494284e-01 -1.15015218e-01 ... -1.04997725e+00\n",
      "  -7.44964886e-01 -5.87389780e-01]\n",
      " [ 2.76350785e-01 -1.45397070e+00  6.01568807e-01 ... -1.04997725e+00\n",
      "   1.71749571e-01  7.43051230e-01]\n",
      " [ 4.50408230e-01  1.30822677e+00 -1.18989125e+00 ... -1.40623314e-01\n",
      "  -6.87670232e-01 -6.82421281e-01]]\n"
     ]
    }
   ],
   "source": [
    "print(x_test)"
   ]
  },
  {
   "cell_type": "code",
   "execution_count": null,
   "id": "68670cec-db19-42a8-a43c-dec2cc4f7555",
   "metadata": {},
   "outputs": [],
   "source": []
  }
 ],
 "metadata": {
  "kernelspec": {
   "display_name": "Python 3 (ipykernel)",
   "language": "python",
   "name": "python3"
  },
  "language_info": {
   "codemirror_mode": {
    "name": "ipython",
    "version": 3
   },
   "file_extension": ".py",
   "mimetype": "text/x-python",
   "name": "python",
   "nbconvert_exporter": "python",
   "pygments_lexer": "ipython3",
   "version": "3.12.3"
  }
 },
 "nbformat": 4,
 "nbformat_minor": 5
}
